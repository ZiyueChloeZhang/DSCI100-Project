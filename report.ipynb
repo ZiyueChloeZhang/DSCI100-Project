{
 "cells": [
  {
   "cell_type": "markdown",
   "metadata": {},
   "source": [
    "# Classification Model of Purchase Intentions\n",
    "### DSCI100 Project Proposal Group 13"
   ]
  },
  {
   "cell_type": "markdown",
   "metadata": {},
   "source": [
    "## Introduction\n",
    "With e-commerce becoming more and more prevalent in today’s environment, businesses within this sector need to understand what factors influence a visitor to transform into a purchaser. Hence, a lot of current research is focused on real-time revenue predictors for these businesses. In this project, we aim to build a classification model to predict the purchase intentions of prospective buyers, and determine whether they will make a purchase or not using the available website usage data.\n",
    "\n",
    "This project uses a dataset from the UCI Machine Learning Repository called the Online Shoppers Purchasing Intention Dataset, which contains information about different users, such as the time spent in each web page and if that lead to a purchase or not.\n",
    "\n",
    "The dataset consists of 12,330 rows of observations associated with 10 numerical and 8 categorical attributes. The dataset was formed so that each observation (session) would belong to a different user in a 1-year period to avoid any tendency to a specific campaign, special day, user profile, or period.\n",
    "\n",
    "The attributes in the dataset can be split into three categories: data related to the page that the user lands on, Google Analytics metrics, and user visit data. The 'Revenue' attribute determines whether a session ended in a purchase or not, and would be used as the class label for our project."
   ]
  },
  {
   "cell_type": "markdown",
   "metadata": {},
   "source": [
    "## Methods & Results:\n",
    "- describe in written English the methods you used to perform your analysis from beginning to end that narrates the code the does the analysis.\n",
    "- your report should include code which:\n",
    "    - loads data from the original source on the web \n",
    "    - wrangles and cleans the data from it's original (downloaded) format to the format necessary for the planned analysis\n",
    "    - performs a summary of the data set that is relevant for exploratory data analysis related to the planned analysis \n",
    "    - creates a visualization of the dataset that is relevant for exploratory data analysis related to the planned analysis\n",
    "    - performs the data analysis\n",
    "    - creates a visualization of the analysis \n",
    "    - note: all tables and figure should have a figure/table number and a legend"
   ]
  },
  {
   "cell_type": "markdown",
   "metadata": {},
   "source": [
    "### Importing libraries and reading data"
   ]
  },
  {
   "cell_type": "code",
   "execution_count": 1,
   "metadata": {},
   "outputs": [
    {
     "name": "stderr",
     "output_type": "stream",
     "text": [
      "── \u001b[1mAttaching packages\u001b[22m ─────────────────────────────────────── tidyverse 1.3.0 ──\n",
      "\n",
      "\u001b[32m✔\u001b[39m \u001b[34mggplot2\u001b[39m 3.3.2     \u001b[32m✔\u001b[39m \u001b[34mpurrr  \u001b[39m 0.3.4\n",
      "\u001b[32m✔\u001b[39m \u001b[34mtibble \u001b[39m 3.0.3     \u001b[32m✔\u001b[39m \u001b[34mdplyr  \u001b[39m 1.0.2\n",
      "\u001b[32m✔\u001b[39m \u001b[34mtidyr  \u001b[39m 1.1.2     \u001b[32m✔\u001b[39m \u001b[34mstringr\u001b[39m 1.4.0\n",
      "\u001b[32m✔\u001b[39m \u001b[34mreadr  \u001b[39m 1.3.1     \u001b[32m✔\u001b[39m \u001b[34mforcats\u001b[39m 0.5.0\n",
      "\n",
      "Warning message:\n",
      "“package ‘ggplot2’ was built under R version 4.0.1”\n",
      "Warning message:\n",
      "“package ‘tibble’ was built under R version 4.0.2”\n",
      "Warning message:\n",
      "“package ‘tidyr’ was built under R version 4.0.2”\n",
      "Warning message:\n",
      "“package ‘dplyr’ was built under R version 4.0.2”\n",
      "── \u001b[1mConflicts\u001b[22m ────────────────────────────────────────── tidyverse_conflicts() ──\n",
      "\u001b[31m✖\u001b[39m \u001b[34mdplyr\u001b[39m::\u001b[32mfilter()\u001b[39m masks \u001b[34mstats\u001b[39m::filter()\n",
      "\u001b[31m✖\u001b[39m \u001b[34mdplyr\u001b[39m::\u001b[32mlag()\u001b[39m    masks \u001b[34mstats\u001b[39m::lag()\n",
      "\n",
      "Warning message:\n",
      "“package ‘tidymodels’ was built under R version 4.0.2”\n",
      "── \u001b[1mAttaching packages\u001b[22m ────────────────────────────────────── tidymodels 0.1.1 ──\n",
      "\n",
      "\u001b[32m✔\u001b[39m \u001b[34mbroom    \u001b[39m 0.7.0      \u001b[32m✔\u001b[39m \u001b[34mrecipes  \u001b[39m 0.1.13\n",
      "\u001b[32m✔\u001b[39m \u001b[34mdials    \u001b[39m 0.0.9      \u001b[32m✔\u001b[39m \u001b[34mrsample  \u001b[39m 0.0.7 \n",
      "\u001b[32m✔\u001b[39m \u001b[34minfer    \u001b[39m 0.5.4      \u001b[32m✔\u001b[39m \u001b[34mtune     \u001b[39m 0.1.1 \n",
      "\u001b[32m✔\u001b[39m \u001b[34mmodeldata\u001b[39m 0.0.2      \u001b[32m✔\u001b[39m \u001b[34mworkflows\u001b[39m 0.2.0 \n",
      "\u001b[32m✔\u001b[39m \u001b[34mparsnip  \u001b[39m 0.1.3      \u001b[32m✔\u001b[39m \u001b[34myardstick\u001b[39m 0.0.7 \n",
      "\n",
      "Warning message:\n",
      "“package ‘broom’ was built under R version 4.0.2”\n",
      "Warning message:\n",
      "“package ‘dials’ was built under R version 4.0.2”\n",
      "Warning message:\n",
      "“package ‘infer’ was built under R version 4.0.3”\n",
      "Warning message:\n",
      "“package ‘modeldata’ was built under R version 4.0.1”\n",
      "Warning message:\n",
      "“package ‘parsnip’ was built under R version 4.0.2”\n",
      "Warning message:\n",
      "“package ‘recipes’ was built under R version 4.0.1”\n",
      "Warning message:\n",
      "“package ‘tune’ was built under R version 4.0.2”\n",
      "Warning message:\n",
      "“package ‘workflows’ was built under R version 4.0.2”\n",
      "Warning message:\n",
      "“package ‘yardstick’ was built under R version 4.0.2”\n",
      "── \u001b[1mConflicts\u001b[22m ───────────────────────────────────────── tidymodels_conflicts() ──\n",
      "\u001b[31m✖\u001b[39m \u001b[34mscales\u001b[39m::\u001b[32mdiscard()\u001b[39m masks \u001b[34mpurrr\u001b[39m::discard()\n",
      "\u001b[31m✖\u001b[39m \u001b[34mdplyr\u001b[39m::\u001b[32mfilter()\u001b[39m   masks \u001b[34mstats\u001b[39m::filter()\n",
      "\u001b[31m✖\u001b[39m \u001b[34mrecipes\u001b[39m::\u001b[32mfixed()\u001b[39m  masks \u001b[34mstringr\u001b[39m::fixed()\n",
      "\u001b[31m✖\u001b[39m \u001b[34mdplyr\u001b[39m::\u001b[32mlag()\u001b[39m      masks \u001b[34mstats\u001b[39m::lag()\n",
      "\u001b[31m✖\u001b[39m \u001b[34myardstick\u001b[39m::\u001b[32mspec()\u001b[39m masks \u001b[34mreadr\u001b[39m::spec()\n",
      "\u001b[31m✖\u001b[39m \u001b[34mrecipes\u001b[39m::\u001b[32mstep()\u001b[39m   masks \u001b[34mstats\u001b[39m::step()\n",
      "\n",
      "Warning message:\n",
      "“package ‘cowplot’ was built under R version 4.0.3”\n",
      "Parsed with column specification:\n",
      "cols(\n",
      "  Administrative = \u001b[32mcol_double()\u001b[39m,\n",
      "  Administrative_Duration = \u001b[32mcol_double()\u001b[39m,\n",
      "  Informational = \u001b[32mcol_double()\u001b[39m,\n",
      "  Informational_Duration = \u001b[32mcol_double()\u001b[39m,\n",
      "  ProductRelated = \u001b[32mcol_double()\u001b[39m,\n",
      "  ProductRelated_Duration = \u001b[32mcol_double()\u001b[39m,\n",
      "  BounceRates = \u001b[32mcol_double()\u001b[39m,\n",
      "  ExitRates = \u001b[32mcol_double()\u001b[39m,\n",
      "  PageValues = \u001b[32mcol_double()\u001b[39m,\n",
      "  SpecialDay = \u001b[32mcol_double()\u001b[39m,\n",
      "  Month = \u001b[31mcol_character()\u001b[39m,\n",
      "  OperatingSystems = \u001b[32mcol_double()\u001b[39m,\n",
      "  Browser = \u001b[32mcol_double()\u001b[39m,\n",
      "  Region = \u001b[32mcol_double()\u001b[39m,\n",
      "  TrafficType = \u001b[32mcol_double()\u001b[39m,\n",
      "  VisitorType = \u001b[31mcol_character()\u001b[39m,\n",
      "  Weekend = \u001b[33mcol_logical()\u001b[39m,\n",
      "  Revenue = \u001b[33mcol_logical()\u001b[39m\n",
      ")\n",
      "\n"
     ]
    },
    {
     "name": "stdout",
     "output_type": "stream",
     "text": [
      "Rows: 12,330\n",
      "Columns: 18\n",
      "$ Administrative          \u001b[3m\u001b[90m<dbl>\u001b[39m\u001b[23m 0, 0, 0, 0, 0, 0, 0, 1, 0, 0, 0, 0, 0, 0, 0, …\n",
      "$ Administrative_Duration \u001b[3m\u001b[90m<dbl>\u001b[39m\u001b[23m 0, 0, 0, 0, 0, 0, 0, 0, 0, 0, 0, 0, 0, 0, 0, …\n",
      "$ Informational           \u001b[3m\u001b[90m<dbl>\u001b[39m\u001b[23m 0, 0, 0, 0, 0, 0, 0, 0, 0, 0, 0, 0, 0, 0, 0, …\n",
      "$ Informational_Duration  \u001b[3m\u001b[90m<dbl>\u001b[39m\u001b[23m 0, 0, 0, 0, 0, 0, 0, 0, 0, 0, 0, 0, 0, 0, 0, …\n",
      "$ ProductRelated          \u001b[3m\u001b[90m<dbl>\u001b[39m\u001b[23m 1, 2, 1, 2, 10, 19, 1, 0, 2, 3, 3, 16, 7, 6, …\n",
      "$ ProductRelated_Duration \u001b[3m\u001b[90m<dbl>\u001b[39m\u001b[23m 0.000000, 64.000000, 0.000000, 2.666667, 627.…\n",
      "$ BounceRates             \u001b[3m\u001b[90m<dbl>\u001b[39m\u001b[23m 0.200000000, 0.000000000, 0.200000000, 0.0500…\n",
      "$ ExitRates               \u001b[3m\u001b[90m<dbl>\u001b[39m\u001b[23m 0.200000000, 0.100000000, 0.200000000, 0.1400…\n",
      "$ PageValues              \u001b[3m\u001b[90m<dbl>\u001b[39m\u001b[23m 0, 0, 0, 0, 0, 0, 0, 0, 0, 0, 0, 0, 0, 0, 0, …\n",
      "$ SpecialDay              \u001b[3m\u001b[90m<dbl>\u001b[39m\u001b[23m 0.0, 0.0, 0.0, 0.0, 0.0, 0.0, 0.4, 0.0, 0.8, …\n",
      "$ Month                   \u001b[3m\u001b[90m<chr>\u001b[39m\u001b[23m \"Feb\", \"Feb\", \"Feb\", \"Feb\", \"Feb\", \"Feb\", \"Fe…\n",
      "$ OperatingSystems        \u001b[3m\u001b[90m<dbl>\u001b[39m\u001b[23m 1, 2, 4, 3, 3, 2, 2, 1, 2, 2, 1, 1, 1, 2, 3, …\n",
      "$ Browser                 \u001b[3m\u001b[90m<dbl>\u001b[39m\u001b[23m 1, 2, 1, 2, 3, 2, 4, 2, 2, 4, 1, 1, 1, 5, 2, …\n",
      "$ Region                  \u001b[3m\u001b[90m<dbl>\u001b[39m\u001b[23m 1, 1, 9, 2, 1, 1, 3, 1, 2, 1, 3, 4, 1, 1, 3, …\n",
      "$ TrafficType             \u001b[3m\u001b[90m<dbl>\u001b[39m\u001b[23m 1, 2, 3, 4, 4, 3, 3, 5, 3, 2, 3, 3, 3, 3, 3, …\n",
      "$ VisitorType             \u001b[3m\u001b[90m<chr>\u001b[39m\u001b[23m \"Returning_Visitor\", \"Returning_Visitor\", \"Re…\n",
      "$ Weekend                 \u001b[3m\u001b[90m<lgl>\u001b[39m\u001b[23m FALSE, FALSE, FALSE, FALSE, TRUE, FALSE, FALS…\n",
      "$ Revenue                 \u001b[3m\u001b[90m<fct>\u001b[39m\u001b[23m FALSE, FALSE, FALSE, FALSE, FALSE, FALSE, FAL…\n"
     ]
    }
   ],
   "source": [
    "# load packages\n",
    "library(tidyverse)\n",
    "library(digest)\n",
    "library(repr)\n",
    "library(tidymodels)\n",
    "library(cowplot)\n",
    "options(repr.matrix.max.rows = 6)\n",
    "\n",
    "# set seed\n",
    "set.seed(3456)\n",
    "\n",
    "# loading data from the original source on the web\n",
    "shoppers_raw <- read_csv(\"https://archive.ics.uci.edu/ml/machine-learning-databases/00468/online_shoppers_intention.csv\") %>%\n",
    "            mutate(Revenue = as_factor(Revenue))\n",
    "glimpse(shoppers_raw)"
   ]
  },
  {
   "cell_type": "markdown",
   "metadata": {},
   "source": [
    "### Tidying the data\n",
    "`shoppers_raw` satisifies the three criteria of tidy data ([Wickham and others 2014](#references)): each row is a single observation, each column is a single variable, and each value is a single cell. Therefore, no further wrangling is needed to make it tidy. "
   ]
  },
  {
   "cell_type": "markdown",
   "metadata": {},
   "source": [
    "However, there are 3 potential predictors `VisitorType`，`Weekend` and `Month` that are not numeric that need to be handled."
   ]
  },
  {
   "cell_type": "code",
   "execution_count": 10,
   "metadata": {},
   "outputs": [
    {
     "name": "stdout",
     "output_type": "stream",
     "text": [
      "Rows: 2\n",
      "Columns: 2\n",
      "$ Weekend \u001b[3m\u001b[90m<lgl>\u001b[39m\u001b[23m FALSE, TRUE\n",
      "$ n       \u001b[3m\u001b[90m<int>\u001b[39m\u001b[23m 9462, 2868\n",
      "Rows: 3\n",
      "Columns: 2\n",
      "$ VisitorType \u001b[3m\u001b[90m<chr>\u001b[39m\u001b[23m \"New_Visitor\", \"Other\", \"Returning_Visitor\"\n",
      "$ n           \u001b[3m\u001b[90m<int>\u001b[39m\u001b[23m 1694, 85, 10551\n",
      "Rows: 10\n",
      "Columns: 2\n",
      "$ Month \u001b[3m\u001b[90m<chr>\u001b[39m\u001b[23m \"Aug\", \"Dec\", \"Feb\", \"Jul\", \"June\", \"Mar\", \"May\", \"Nov\", \"Oct\",…\n",
      "$ n     \u001b[3m\u001b[90m<int>\u001b[39m\u001b[23m 433, 1727, 184, 432, 288, 1907, 3364, 2998, 549, 448\n"
     ]
    }
   ],
   "source": [
    "visitor <- shoppers_raw %>% count(VisitorType)\n",
    "weekend <- shoppers_raw %>% count(Weekend)\n",
    "month <- shoppers_raw %>% count(Month)\n",
    "glimpse(weekend)\n",
    "glimpse(visitor)\n",
    "glimpse(month)"
   ]
  },
  {
   "cell_type": "markdown",
   "metadata": {},
   "source": [
    "- For `VisitorType`, we use `1`, `2`, `3` to represent `\"New_Visitor\"`, `\"Returning_Visitor\"`,`\"Other\"` respectively and store it in a new column `VisitorTypeNumeric`.\n",
    "- For `Weekend`, we use `1`,`0` to represent `\"TRUE`\", `\"FALSE\"` respectively and store it in a new column `WeekendNumeric`.\n",
    "- For `Month`, we use `1` to `12` to represent each month and store it in a new column `MonthNumeric`."
   ]
  },
  {
   "cell_type": "code",
   "execution_count": 15,
   "metadata": {},
   "outputs": [
    {
     "name": "stdout",
     "output_type": "stream",
     "text": [
      "Rows: 12,330\n",
      "Columns: 18\n",
      "$ Administrative          \u001b[3m\u001b[90m<dbl>\u001b[39m\u001b[23m 0, 0, 0, 0, 0, 0, 0, 1, 0, 0, 0, 0, 0, 0, 0, …\n",
      "$ Administrative_Duration \u001b[3m\u001b[90m<dbl>\u001b[39m\u001b[23m 0, 0, 0, 0, 0, 0, 0, 0, 0, 0, 0, 0, 0, 0, 0, …\n",
      "$ Informational           \u001b[3m\u001b[90m<dbl>\u001b[39m\u001b[23m 0, 0, 0, 0, 0, 0, 0, 0, 0, 0, 0, 0, 0, 0, 0, …\n",
      "$ Informational_Duration  \u001b[3m\u001b[90m<dbl>\u001b[39m\u001b[23m 0, 0, 0, 0, 0, 0, 0, 0, 0, 0, 0, 0, 0, 0, 0, …\n",
      "$ ProductRelated          \u001b[3m\u001b[90m<dbl>\u001b[39m\u001b[23m 1, 2, 1, 2, 10, 19, 1, 0, 2, 3, 3, 16, 7, 6, …\n",
      "$ ProductRelated_Duration \u001b[3m\u001b[90m<dbl>\u001b[39m\u001b[23m 0.000000, 64.000000, 0.000000, 2.666667, 627.…\n",
      "$ BounceRates             \u001b[3m\u001b[90m<dbl>\u001b[39m\u001b[23m 0.200000000, 0.000000000, 0.200000000, 0.0500…\n",
      "$ ExitRates               \u001b[3m\u001b[90m<dbl>\u001b[39m\u001b[23m 0.200000000, 0.100000000, 0.200000000, 0.1400…\n",
      "$ PageValues              \u001b[3m\u001b[90m<dbl>\u001b[39m\u001b[23m 0, 0, 0, 0, 0, 0, 0, 0, 0, 0, 0, 0, 0, 0, 0, …\n",
      "$ SpecialDay              \u001b[3m\u001b[90m<dbl>\u001b[39m\u001b[23m 0.0, 0.0, 0.0, 0.0, 0.0, 0.0, 0.4, 0.0, 0.8, …\n",
      "$ OperatingSystems        \u001b[3m\u001b[90m<dbl>\u001b[39m\u001b[23m 1, 2, 4, 3, 3, 2, 2, 1, 2, 2, 1, 1, 1, 2, 3, …\n",
      "$ Browser                 \u001b[3m\u001b[90m<dbl>\u001b[39m\u001b[23m 1, 2, 1, 2, 3, 2, 4, 2, 2, 4, 1, 1, 1, 5, 2, …\n",
      "$ Region                  \u001b[3m\u001b[90m<dbl>\u001b[39m\u001b[23m 1, 1, 9, 2, 1, 1, 3, 1, 2, 1, 3, 4, 1, 1, 3, …\n",
      "$ TrafficType             \u001b[3m\u001b[90m<dbl>\u001b[39m\u001b[23m 1, 2, 3, 4, 4, 3, 3, 5, 3, 2, 3, 3, 3, 3, 3, …\n",
      "$ Revenue                 \u001b[3m\u001b[90m<fct>\u001b[39m\u001b[23m FALSE, FALSE, FALSE, FALSE, FALSE, FALSE, FAL…\n",
      "$ VisitorTypeNumeric      \u001b[3m\u001b[90m<dbl>\u001b[39m\u001b[23m 2, 2, 2, 2, 2, 2, 2, 2, 2, 2, 2, 2, 2, 2, 2, …\n",
      "$ WeekendNumeric          \u001b[3m\u001b[90m<dbl>\u001b[39m\u001b[23m 0, 0, 0, 0, 1, 0, 0, 1, 0, 0, 0, 0, 0, 0, 0, …\n",
      "$ MonthNumeric            \u001b[3m\u001b[90m<dbl>\u001b[39m\u001b[23m 2, 2, 2, 2, 2, 2, 2, 2, 2, 2, 2, 2, 2, 2, 2, …\n"
     ]
    }
   ],
   "source": [
    "shoppers <- shoppers_raw %>%\n",
    "            mutate(VisitorTypeNumeric = case_when(VisitorType == \"New_Visitor\" ~ 1,\n",
    "                                                  VisitorType == \"Returning_Visitor\" ~ 2,\n",
    "                                                  VisitorType == \"Other\" ~ 3),\n",
    "                   WeekendNumeric = case_when(Weekend == \"TRUE\" ~ 1,\n",
    "                                              Weekend == \"FALSE\" ~ 0),\n",
    "                   MonthNumeric = case_when(Month == \"Feb\" ~ 2, \n",
    "                                            Month == \"Mar\" ~ 3,\n",
    "                                            Month == \"May\" ~ 5,\n",
    "                                            Month == \"June\" ~ 6,\n",
    "                                            Month == \"Jul\" ~ 7,\n",
    "                                            Month == \"Aug\" ~ 8,\n",
    "                                            Month == \"Sep\" ~ 9,\n",
    "                                            Month == \"Oct\" ~ 10,\n",
    "                                            Month == \"Nov\" ~ 11,\n",
    "                                            Month == \"Dec\" ~ 12))%>%\n",
    "            select(- c(Weekend,VisitorType, Month))\n",
    "glimpse(shoppers)"
   ]
  },
  {
   "cell_type": "markdown",
   "metadata": {},
   "source": [
    "Now the wrangled dataframe `shoppers` is ready for the next step."
   ]
  },
  {
   "cell_type": "markdown",
   "metadata": {},
   "source": [
    "### Splitting data into training and testing set\n",
    "Since `shoppers` has a large amount (12330) of observations, it is splitted into a training set `shoppers_train` and a testing set `shoppers_test` with a 50/50 ratio."
   ]
  },
  {
   "cell_type": "code",
   "execution_count": 16,
   "metadata": {},
   "outputs": [
    {
     "name": "stdout",
     "output_type": "stream",
     "text": [
      "Rows: 6,165\n",
      "Columns: 18\n",
      "$ Administrative          \u001b[3m\u001b[90m<dbl>\u001b[39m\u001b[23m 0, 0, 0, 0, 0, 0, 2, 0, 0, 0, 0, 0, 0, 1, 0, …\n",
      "$ Administrative_Duration \u001b[3m\u001b[90m<dbl>\u001b[39m\u001b[23m 0, 0, 0, 0, 0, 0, 53, 0, 0, 0, 0, 0, 0, 9, 0,…\n",
      "$ Informational           \u001b[3m\u001b[90m<dbl>\u001b[39m\u001b[23m 0, 0, 0, 0, 0, 0, 0, 0, 0, 0, 0, 0, 0, 0, 0, …\n",
      "$ Informational_Duration  \u001b[3m\u001b[90m<dbl>\u001b[39m\u001b[23m 0, 0, 0, 0, 0, 0, 0, 0, 0, 0, 0, 0, 0, 0, 0, …\n",
      "$ ProductRelated          \u001b[3m\u001b[90m<dbl>\u001b[39m\u001b[23m 1, 10, 1, 2, 3, 7, 23, 1, 20, 3, 4, 4, 14, 46…\n",
      "$ ProductRelated_Duration \u001b[3m\u001b[90m<dbl>\u001b[39m\u001b[23m 0.0000, 627.5000, 0.0000, 37.0000, 395.0000, …\n",
      "$ BounceRates             \u001b[3m\u001b[90m<dbl>\u001b[39m\u001b[23m 0.200000000, 0.020000000, 0.200000000, 0.0000…\n",
      "$ ExitRates               \u001b[3m\u001b[90m<dbl>\u001b[39m\u001b[23m 0.200000000, 0.050000000, 0.200000000, 0.1000…\n",
      "$ PageValues              \u001b[3m\u001b[90m<dbl>\u001b[39m\u001b[23m 0.00000, 0.00000, 0.00000, 0.00000, 0.00000, …\n",
      "$ SpecialDay              \u001b[3m\u001b[90m<dbl>\u001b[39m\u001b[23m 0.0, 0.0, 0.4, 0.8, 0.0, 0.0, 0.0, 0.0, 0.0, …\n",
      "$ OperatingSystems        \u001b[3m\u001b[90m<dbl>\u001b[39m\u001b[23m 1, 3, 2, 2, 1, 1, 1, 1, 2, 3, 1, 2, 2, 2, 1, …\n",
      "$ Browser                 \u001b[3m\u001b[90m<dbl>\u001b[39m\u001b[23m 1, 3, 4, 2, 1, 1, 1, 1, 4, 2, 1, 6, 2, 2, 1, …\n",
      "$ Region                  \u001b[3m\u001b[90m<dbl>\u001b[39m\u001b[23m 1, 1, 3, 2, 3, 1, 9, 4, 4, 1, 1, 1, 1, 8, 3, …\n",
      "$ TrafficType             \u001b[3m\u001b[90m<dbl>\u001b[39m\u001b[23m 1, 4, 3, 3, 3, 3, 3, 3, 4, 5, 3, 3, 1, 4, 2, …\n",
      "$ Revenue                 \u001b[3m\u001b[90m<fct>\u001b[39m\u001b[23m FALSE, FALSE, FALSE, FALSE, FALSE, FALSE, FAL…\n",
      "$ VisitorTypeNumeric      \u001b[3m\u001b[90m<dbl>\u001b[39m\u001b[23m 2, 2, 2, 2, 2, 2, 2, 2, 2, 2, 2, 2, 2, 2, 2, …\n",
      "$ WeekendNumeric          \u001b[3m\u001b[90m<dbl>\u001b[39m\u001b[23m 0, 1, 0, 0, 0, 0, 0, 0, 0, 0, 0, 0, 0, 0, 0, …\n",
      "$ MonthNumeric            \u001b[3m\u001b[90m<dbl>\u001b[39m\u001b[23m 2, 2, 2, 2, 2, 2, 2, 2, 2, 2, 2, 2, 2, 2, 2, …\n",
      "Rows: 6,165\n",
      "Columns: 18\n",
      "$ Administrative          \u001b[3m\u001b[90m<dbl>\u001b[39m\u001b[23m 0, 0, 0, 0, 1, 0, 0, 0, 0, 0, 0, 0, 0, 0, 0, …\n",
      "$ Administrative_Duration \u001b[3m\u001b[90m<dbl>\u001b[39m\u001b[23m 0.0, 0.0, 0.0, 0.0, 0.0, 0.0, 0.0, 0.0, 0.0, …\n",
      "$ Informational           \u001b[3m\u001b[90m<dbl>\u001b[39m\u001b[23m 0, 0, 0, 0, 0, 0, 0, 0, 0, 0, 0, 0, 0, 0, 0, …\n",
      "$ Informational_Duration  \u001b[3m\u001b[90m<dbl>\u001b[39m\u001b[23m 0, 0, 0, 0, 0, 0, 0, 0, 0, 0, 0, 0, 0, 0, 0, …\n",
      "$ ProductRelated          \u001b[3m\u001b[90m<dbl>\u001b[39m\u001b[23m 2, 1, 2, 19, 0, 3, 16, 6, 2, 13, 2, 8, 2, 2, …\n",
      "$ ProductRelated_Duration \u001b[3m\u001b[90m<dbl>\u001b[39m\u001b[23m 64.000000, 0.000000, 2.666667, 154.216667, 0.…\n",
      "$ BounceRates             \u001b[3m\u001b[90m<dbl>\u001b[39m\u001b[23m 0.000000000, 0.200000000, 0.050000000, 0.0157…\n",
      "$ ExitRates               \u001b[3m\u001b[90m<dbl>\u001b[39m\u001b[23m 0.100000000, 0.200000000, 0.140000000, 0.0245…\n",
      "$ PageValues              \u001b[3m\u001b[90m<dbl>\u001b[39m\u001b[23m 0.00000, 0.00000, 0.00000, 0.00000, 0.00000, …\n",
      "$ SpecialDay              \u001b[3m\u001b[90m<dbl>\u001b[39m\u001b[23m 0.0, 0.0, 0.0, 0.0, 0.0, 0.4, 0.4, 0.0, 0.0, …\n",
      "$ OperatingSystems        \u001b[3m\u001b[90m<dbl>\u001b[39m\u001b[23m 2, 4, 3, 2, 1, 2, 1, 2, 3, 1, 2, 2, 3, 2, 2, …\n",
      "$ Browser                 \u001b[3m\u001b[90m<dbl>\u001b[39m\u001b[23m 2, 1, 2, 2, 2, 4, 1, 5, 2, 1, 2, 2, 3, 4, 2, …\n",
      "$ Region                  \u001b[3m\u001b[90m<dbl>\u001b[39m\u001b[23m 1, 9, 2, 1, 1, 1, 4, 1, 3, 1, 1, 5, 1, 1, 4, …\n",
      "$ TrafficType             \u001b[3m\u001b[90m<dbl>\u001b[39m\u001b[23m 2, 3, 4, 3, 5, 2, 3, 3, 3, 4, 3, 1, 3, 3, 1, …\n",
      "$ Revenue                 \u001b[3m\u001b[90m<fct>\u001b[39m\u001b[23m FALSE, FALSE, FALSE, FALSE, FALSE, FALSE, FAL…\n",
      "$ VisitorTypeNumeric      \u001b[3m\u001b[90m<dbl>\u001b[39m\u001b[23m 2, 2, 2, 2, 2, 2, 2, 2, 2, 2, 2, 2, 2, 2, 2, …\n",
      "$ WeekendNumeric          \u001b[3m\u001b[90m<dbl>\u001b[39m\u001b[23m 0, 0, 0, 0, 1, 0, 0, 0, 0, 1, 0, 1, 0, 0, 1, …\n",
      "$ MonthNumeric            \u001b[3m\u001b[90m<dbl>\u001b[39m\u001b[23m 2, 2, 2, 2, 2, 2, 2, 2, 2, 2, 2, 2, 2, 2, 2, …\n"
     ]
    }
   ],
   "source": [
    "shoppers_split <- initial_split(shoppers, prop = 1/2, strata = Revenue)\n",
    "shoppers_train <- training(shoppers_split)\n",
    "shoppers_test <- testing(shoppers_split)\n",
    "glimpse(shoppers_train)\n",
    "glimpse(shoppers_test)"
   ]
  },
  {
   "cell_type": "markdown",
   "metadata": {},
   "source": [
    "### Selecting predictors"
   ]
  },
  {
   "cell_type": "code",
   "execution_count": null,
   "metadata": {},
   "outputs": [],
   "source": [
    "shoppers_subset <- shoppers_train\n",
    "names <- colnames(shoppers_subset %>% select(-Revenue))\n",
    "\n",
    "# create an empty tibble to store the results\n",
    "accuracies <- tibble(size = integer(), model_string = character(), accuracy = numeric())\n",
    "\n",
    "# create a model specification\n",
    "knn_spec <- nearest_neighbor(weight_func = \"rectangular\", neighbors = tune()) %>%\n",
    "     set_engine(\"kknn\") %>%\n",
    "     set_mode(\"classification\")\n",
    "\n",
    "# create a 5-fold cross-validation object\n",
    "cancer_vfold <- vfold_cv(shoppers_subset, v = 5, strata = Revenue)\n",
    "\n",
    "# store the total number of predictors\n",
    "n_total <- length(names)\n",
    "\n",
    "# stores selected predictors\n",
    "selected <- c()\n",
    "\n",
    "# for every size from 1 to the total number of predictors\n",
    "for (i in 1:n_total) {\n",
    "    # for every predictor still not added yet\n",
    "    accs <- list()\n",
    "    models <- list()\n",
    "    for (j in 1:length(names)) {\n",
    "        # create a model string for this combination of predictors\n",
    "        preds_new <- c(selected, names[[j]])\n",
    "        model_string <- paste(\"Revenue\", \"~\", paste(preds_new, collapse=\"+\"))\n",
    "\n",
    "        # create a recipe from the model string\n",
    "        shoppers_recipe <- recipe(as.formula(model_string), data = shoppers_subset) %>%\n",
    "                          step_scale(all_predictors()) %>%\n",
    "                          step_center(all_predictors())\n",
    "\n",
    "        # tune the KNN classifier with these predictors, and collect the accuracy for the best K\n",
    "        acc <- workflow() %>%\n",
    "          add_recipe(shoppers_recipe) %>%\n",
    "          add_model(knn_spec) %>%\n",
    "          tune_grid(resamples = cancer_vfold, grid = 10) %>%\n",
    "          collect_metrics() %>%\n",
    "          filter(.metric == \"accuracy\") %>%\n",
    "          summarize(mx = max(mean))\n",
    "        acc <- acc$mx %>% unlist()\n",
    "\n",
    "        # add this result to the dataframe\n",
    "        accs[[j]] <- acc\n",
    "        models[[j]] <- model_string\n",
    "    }\n",
    "    jstar <- which.max(unlist(accs))\n",
    "    accuracies <- accuracies %>% add_row(size = i, model_string = models[[jstar]], accuracy = accs[[jstar]])\n",
    "    selected <- c(selected, names[[jstar]])\n",
    "    names <- names[-jstar]\n",
    "}\n",
    "accuracies"
   ]
  },
  {
   "cell_type": "markdown",
   "metadata": {},
   "source": [
    "## Discussion:\n",
    "- summarize what you found\n",
    "- discuss whether this is what you expected to find?\n",
    "- discuss what impact could such findings have?\n",
    "- discuss what future questions could this lead to?"
   ]
  },
  {
   "cell_type": "markdown",
   "metadata": {},
   "source": [
    "## <a id='references'></a>References\n",
    "At least 2 citations of literature relevant to the project (format is your choice, just be consistent across the references).\n",
    "Make sure to cite the source of your data as well.\n",
    "\n",
    "- Wickham, Hadley, and others. 2014. “Tidy Data.” Journal of Statistical Software 59 (10): 1–23.\n",
    "- Cue consistency and page value perception: Implications for web-based catalog design.\n",
    "- Analysis of Queues with Impatient Clients: An Application to Online Shopping"
   ]
  },
  {
   "cell_type": "code",
   "execution_count": null,
   "metadata": {},
   "outputs": [],
   "source": [
    "for (i in 1:n_total) {\n",
    "    ...\n",
    "    for (j in 1:length(names)) {\n",
    "       ...\n",
    "    }\n",
    "    ...\n",
    "}"
   ]
  }
 ],
 "metadata": {
  "kernelspec": {
   "display_name": "R",
   "language": "R",
   "name": "ir"
  },
  "language_info": {
   "codemirror_mode": "r",
   "file_extension": ".r",
   "mimetype": "text/x-r-source",
   "name": "R",
   "pygments_lexer": "r",
   "version": "4.0.0"
  }
 },
 "nbformat": 4,
 "nbformat_minor": 4
}
