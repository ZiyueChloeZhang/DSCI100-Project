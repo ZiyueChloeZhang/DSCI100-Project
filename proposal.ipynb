{
 "cells": [
  {
   "cell_type": "markdown",
   "metadata": {},
   "source": [
    "# Classification Model of Purchase Intentions\n",
    "### DSCI100 Project Proposal Group 13"
   ]
  },
  {
   "cell_type": "code",
   "execution_count": 9,
   "metadata": {},
   "outputs": [
    {
     "name": "stderr",
     "output_type": "stream",
     "text": [
      "Warning message:\n",
      "“package ‘tidymodels’ was built under R version 4.0.2”\n",
      "── \u001b[1mAttaching packages\u001b[22m ────────────────────────────────────── tidymodels 0.1.1 ──\n",
      "\n",
      "\u001b[32m✔\u001b[39m \u001b[34mbroom    \u001b[39m 0.7.0      \u001b[32m✔\u001b[39m \u001b[34mrecipes  \u001b[39m 0.1.13\n",
      "\u001b[32m✔\u001b[39m \u001b[34mdials    \u001b[39m 0.0.9      \u001b[32m✔\u001b[39m \u001b[34mrsample  \u001b[39m 0.0.7 \n",
      "\u001b[32m✔\u001b[39m \u001b[34minfer    \u001b[39m 0.5.4      \u001b[32m✔\u001b[39m \u001b[34mtune     \u001b[39m 0.1.1 \n",
      "\u001b[32m✔\u001b[39m \u001b[34mmodeldata\u001b[39m 0.0.2      \u001b[32m✔\u001b[39m \u001b[34mworkflows\u001b[39m 0.2.0 \n",
      "\u001b[32m✔\u001b[39m \u001b[34mparsnip  \u001b[39m 0.1.3      \u001b[32m✔\u001b[39m \u001b[34myardstick\u001b[39m 0.0.7 \n",
      "\n",
      "Warning message:\n",
      "“package ‘broom’ was built under R version 4.0.2”\n",
      "Warning message:\n",
      "“package ‘dials’ was built under R version 4.0.2”\n",
      "Warning message:\n",
      "“package ‘infer’ was built under R version 4.0.3”\n",
      "Warning message:\n",
      "“package ‘modeldata’ was built under R version 4.0.1”\n",
      "Warning message:\n",
      "“package ‘parsnip’ was built under R version 4.0.2”\n",
      "Warning message:\n",
      "“package ‘recipes’ was built under R version 4.0.1”\n",
      "Warning message:\n",
      "“package ‘tune’ was built under R version 4.0.2”\n",
      "Warning message:\n",
      "“package ‘workflows’ was built under R version 4.0.2”\n",
      "Warning message:\n",
      "“package ‘yardstick’ was built under R version 4.0.2”\n",
      "── \u001b[1mConflicts\u001b[22m ───────────────────────────────────────── tidymodels_conflicts() ──\n",
      "\u001b[31m✖\u001b[39m \u001b[34mscales\u001b[39m::\u001b[32mdiscard()\u001b[39m masks \u001b[34mpurrr\u001b[39m::discard()\n",
      "\u001b[31m✖\u001b[39m \u001b[34mdplyr\u001b[39m::\u001b[32mfilter()\u001b[39m   masks \u001b[34mstats\u001b[39m::filter()\n",
      "\u001b[31m✖\u001b[39m \u001b[34mrecipes\u001b[39m::\u001b[32mfixed()\u001b[39m  masks \u001b[34mstringr\u001b[39m::fixed()\n",
      "\u001b[31m✖\u001b[39m \u001b[34mdplyr\u001b[39m::\u001b[32mlag()\u001b[39m      masks \u001b[34mstats\u001b[39m::lag()\n",
      "\u001b[31m✖\u001b[39m \u001b[34myardstick\u001b[39m::\u001b[32mspec()\u001b[39m masks \u001b[34mreadr\u001b[39m::spec()\n",
      "\u001b[31m✖\u001b[39m \u001b[34mrecipes\u001b[39m::\u001b[32mstep()\u001b[39m   masks \u001b[34mstats\u001b[39m::step()\n",
      "\n"
     ]
    }
   ],
   "source": [
    "library(tidyverse)\n",
    "library(tidymodels)"
   ]
  },
  {
   "cell_type": "code",
   "execution_count": 11,
   "metadata": {},
   "outputs": [
    {
     "name": "stderr",
     "output_type": "stream",
     "text": [
      "Parsed with column specification:\n",
      "cols(\n",
      "  Administrative = \u001b[32mcol_double()\u001b[39m,\n",
      "  Administrative_Duration = \u001b[32mcol_double()\u001b[39m,\n",
      "  Informational = \u001b[32mcol_double()\u001b[39m,\n",
      "  Informational_Duration = \u001b[32mcol_double()\u001b[39m,\n",
      "  ProductRelated = \u001b[32mcol_double()\u001b[39m,\n",
      "  ProductRelated_Duration = \u001b[32mcol_double()\u001b[39m,\n",
      "  BounceRates = \u001b[32mcol_double()\u001b[39m,\n",
      "  ExitRates = \u001b[32mcol_double()\u001b[39m,\n",
      "  PageValues = \u001b[32mcol_double()\u001b[39m,\n",
      "  SpecialDay = \u001b[32mcol_double()\u001b[39m,\n",
      "  Month = \u001b[31mcol_character()\u001b[39m,\n",
      "  OperatingSystems = \u001b[32mcol_double()\u001b[39m,\n",
      "  Browser = \u001b[32mcol_double()\u001b[39m,\n",
      "  Region = \u001b[32mcol_double()\u001b[39m,\n",
      "  TrafficType = \u001b[32mcol_double()\u001b[39m,\n",
      "  VisitorType = \u001b[31mcol_character()\u001b[39m,\n",
      "  Weekend = \u001b[33mcol_logical()\u001b[39m,\n",
      "  Revenue = \u001b[33mcol_logical()\u001b[39m\n",
      ")\n",
      "\n"
     ]
    },
    {
     "data": {
      "text/html": [
       "<table>\n",
       "<caption>A tibble: 6 × 7</caption>\n",
       "<thead>\n",
       "\t<tr><th scope=col>BounceRates</th><th scope=col>ExitRates</th><th scope=col>PageValues</th><th scope=col>SpecialDay</th><th scope=col>Month</th><th scope=col>Weekend</th><th scope=col>Revenue</th></tr>\n",
       "\t<tr><th scope=col>&lt;dbl&gt;</th><th scope=col>&lt;dbl&gt;</th><th scope=col>&lt;dbl&gt;</th><th scope=col>&lt;dbl&gt;</th><th scope=col>&lt;chr&gt;</th><th scope=col>&lt;lgl&gt;</th><th scope=col>&lt;fct&gt;</th></tr>\n",
       "</thead>\n",
       "<tbody>\n",
       "\t<tr><td>0.20000000</td><td>0.20000000</td><td>0</td><td>0.0</td><td>Feb</td><td>FALSE</td><td>FALSE</td></tr>\n",
       "\t<tr><td>0.05000000</td><td>0.14000000</td><td>0</td><td>0.0</td><td>Feb</td><td>FALSE</td><td>FALSE</td></tr>\n",
       "\t<tr><td>0.01578947</td><td>0.02456140</td><td>0</td><td>0.0</td><td>Feb</td><td>FALSE</td><td>FALSE</td></tr>\n",
       "\t<tr><td>0.00000000</td><td>0.10000000</td><td>0</td><td>0.8</td><td>Feb</td><td>FALSE</td><td>FALSE</td></tr>\n",
       "\t<tr><td>0.00000000</td><td>0.02222222</td><td>0</td><td>0.4</td><td>Feb</td><td>FALSE</td><td>FALSE</td></tr>\n",
       "\t<tr><td>0.00000000</td><td>0.02857143</td><td>0</td><td>0.0</td><td>Feb</td><td>FALSE</td><td>FALSE</td></tr>\n",
       "</tbody>\n",
       "</table>\n"
      ],
      "text/latex": [
       "A tibble: 6 × 7\n",
       "\\begin{tabular}{lllllll}\n",
       " BounceRates & ExitRates & PageValues & SpecialDay & Month & Weekend & Revenue\\\\\n",
       " <dbl> & <dbl> & <dbl> & <dbl> & <chr> & <lgl> & <fct>\\\\\n",
       "\\hline\n",
       "\t 0.20000000 & 0.20000000 & 0 & 0.0 & Feb & FALSE & FALSE\\\\\n",
       "\t 0.05000000 & 0.14000000 & 0 & 0.0 & Feb & FALSE & FALSE\\\\\n",
       "\t 0.01578947 & 0.02456140 & 0 & 0.0 & Feb & FALSE & FALSE\\\\\n",
       "\t 0.00000000 & 0.10000000 & 0 & 0.8 & Feb & FALSE & FALSE\\\\\n",
       "\t 0.00000000 & 0.02222222 & 0 & 0.4 & Feb & FALSE & FALSE\\\\\n",
       "\t 0.00000000 & 0.02857143 & 0 & 0.0 & Feb & FALSE & FALSE\\\\\n",
       "\\end{tabular}\n"
      ],
      "text/markdown": [
       "\n",
       "A tibble: 6 × 7\n",
       "\n",
       "| BounceRates &lt;dbl&gt; | ExitRates &lt;dbl&gt; | PageValues &lt;dbl&gt; | SpecialDay &lt;dbl&gt; | Month &lt;chr&gt; | Weekend &lt;lgl&gt; | Revenue &lt;fct&gt; |\n",
       "|---|---|---|---|---|---|---|\n",
       "| 0.20000000 | 0.20000000 | 0 | 0.0 | Feb | FALSE | FALSE |\n",
       "| 0.05000000 | 0.14000000 | 0 | 0.0 | Feb | FALSE | FALSE |\n",
       "| 0.01578947 | 0.02456140 | 0 | 0.0 | Feb | FALSE | FALSE |\n",
       "| 0.00000000 | 0.10000000 | 0 | 0.8 | Feb | FALSE | FALSE |\n",
       "| 0.00000000 | 0.02222222 | 0 | 0.4 | Feb | FALSE | FALSE |\n",
       "| 0.00000000 | 0.02857143 | 0 | 0.0 | Feb | FALSE | FALSE |\n",
       "\n"
      ],
      "text/plain": [
       "  BounceRates ExitRates  PageValues SpecialDay Month Weekend Revenue\n",
       "1 0.20000000  0.20000000 0          0.0        Feb   FALSE   FALSE  \n",
       "2 0.05000000  0.14000000 0          0.0        Feb   FALSE   FALSE  \n",
       "3 0.01578947  0.02456140 0          0.0        Feb   FALSE   FALSE  \n",
       "4 0.00000000  0.10000000 0          0.8        Feb   FALSE   FALSE  \n",
       "5 0.00000000  0.02222222 0          0.4        Feb   FALSE   FALSE  \n",
       "6 0.00000000  0.02857143 0          0.0        Feb   FALSE   FALSE  "
      ]
     },
     "metadata": {},
     "output_type": "display_data"
    }
   ],
   "source": [
    "shoppers <- read_csv(\"https://archive.ics.uci.edu/ml/machine-learning-databases/00468/online_shoppers_intention.csv\") %>%\n",
    "    select(BounceRates:Month, Weekend:Revenue) %>%\n",
    "    mutate(Revenue = as_factor(Revenue))\n",
    "\n",
    "shoppers_split <- initial_split(shoppers, prop = 0.5, strata = Revenue)\n",
    "shoppers_train <- training(shoppers_split)\n",
    "shoppers_test <- testing(shoppers_split)\n",
    "\n",
    "head(shoppers_train)"
   ]
  },
  {
   "cell_type": "code",
   "execution_count": null,
   "metadata": {},
   "outputs": [],
   "source": []
  }
 ],
 "metadata": {
  "kernelspec": {
   "display_name": "R",
   "language": "R",
   "name": "ir"
  },
  "language_info": {
   "codemirror_mode": "r",
   "file_extension": ".r",
   "mimetype": "text/x-r-source",
   "name": "R",
   "pygments_lexer": "r",
   "version": "4.0.0"
  }
 },
 "nbformat": 4,
 "nbformat_minor": 4
}
