{
 "cells": [
  {
   "cell_type": "code",
   "execution_count": 2,
   "metadata": {},
   "outputs": [
    {
     "name": "stderr",
     "output_type": "stream",
     "text": [
      "── \u001b[1mAttaching packages\u001b[22m ─────────────────────────────────────── tidyverse 1.3.0 ──\n",
      "\n",
      "\u001b[32m✔\u001b[39m \u001b[34mggplot2\u001b[39m 3.3.2     \u001b[32m✔\u001b[39m \u001b[34mpurrr  \u001b[39m 0.3.4\n",
      "\u001b[32m✔\u001b[39m \u001b[34mtibble \u001b[39m 3.0.3     \u001b[32m✔\u001b[39m \u001b[34mdplyr  \u001b[39m 1.0.2\n",
      "\u001b[32m✔\u001b[39m \u001b[34mtidyr  \u001b[39m 1.1.2     \u001b[32m✔\u001b[39m \u001b[34mstringr\u001b[39m 1.4.0\n",
      "\u001b[32m✔\u001b[39m \u001b[34mreadr  \u001b[39m 1.3.1     \u001b[32m✔\u001b[39m \u001b[34mforcats\u001b[39m 0.5.0\n",
      "\n",
      "Warning message:\n",
      "“package ‘ggplot2’ was built under R version 4.0.1”\n",
      "Warning message:\n",
      "“package ‘tibble’ was built under R version 4.0.2”\n",
      "Warning message:\n",
      "“package ‘tidyr’ was built under R version 4.0.2”\n",
      "Warning message:\n",
      "“package ‘dplyr’ was built under R version 4.0.2”\n",
      "── \u001b[1mConflicts\u001b[22m ────────────────────────────────────────── tidyverse_conflicts() ──\n",
      "\u001b[31m✖\u001b[39m \u001b[34mdplyr\u001b[39m::\u001b[32mfilter()\u001b[39m masks \u001b[34mstats\u001b[39m::filter()\n",
      "\u001b[31m✖\u001b[39m \u001b[34mdplyr\u001b[39m::\u001b[32mlag()\u001b[39m    masks \u001b[34mstats\u001b[39m::lag()\n",
      "\n"
     ]
    }
   ],
   "source": [
    "library(tidyverse)"
   ]
  },
  {
   "cell_type": "code",
   "execution_count": 4,
   "metadata": {},
   "outputs": [
    {
     "name": "stderr",
     "output_type": "stream",
     "text": [
      "Parsed with column specification:\n",
      "cols(\n",
      "  Administrative = \u001b[32mcol_double()\u001b[39m,\n",
      "  Administrative_Duration = \u001b[32mcol_double()\u001b[39m,\n",
      "  Informational = \u001b[32mcol_double()\u001b[39m,\n",
      "  Informational_Duration = \u001b[32mcol_double()\u001b[39m,\n",
      "  ProductRelated = \u001b[32mcol_double()\u001b[39m,\n",
      "  ProductRelated_Duration = \u001b[32mcol_double()\u001b[39m,\n",
      "  BounceRates = \u001b[32mcol_double()\u001b[39m,\n",
      "  ExitRates = \u001b[32mcol_double()\u001b[39m,\n",
      "  PageValues = \u001b[32mcol_double()\u001b[39m,\n",
      "  SpecialDay = \u001b[32mcol_double()\u001b[39m,\n",
      "  Month = \u001b[31mcol_character()\u001b[39m,\n",
      "  OperatingSystems = \u001b[32mcol_double()\u001b[39m,\n",
      "  Browser = \u001b[32mcol_double()\u001b[39m,\n",
      "  Region = \u001b[32mcol_double()\u001b[39m,\n",
      "  TrafficType = \u001b[32mcol_double()\u001b[39m,\n",
      "  VisitorType = \u001b[31mcol_character()\u001b[39m,\n",
      "  Weekend = \u001b[33mcol_logical()\u001b[39m,\n",
      "  Revenue = \u001b[33mcol_logical()\u001b[39m\n",
      ")\n",
      "\n"
     ]
    }
   ],
   "source": [
    "shoppers <- read_csv(\"https://archive.ics.uci.edu/ml/machine-learning-databases/00468/online_shoppers_intention.csv\")"
   ]
  },
  {
   "cell_type": "markdown",
   "metadata": {},
   "source": [
    "# Classification Model of Purcharse Intentions\n",
    "## Introduction\n",
    "This data set outlines the Purchasing Intentions of various Online Shoppers. The data set is made up of 8 columns with five thousand rows of observations and findings. All of this information can be used and analyzed depending on what information is needed. In this project, we are hoping to build a classification model to predict the purchase intentions of the users and determine whether the user will make a purchase or not. The data set that we will use to answer this question is the “Online Shoppers Purchasing Intention Dataset Data Set”. This is a data set that outlines multiple different factors including how quickly the viewer leaves the site without further inquiries, called ‘Bounce Rate, if the site is accessed close to a holiday, called ‘Special Day’, the region it is accessed in, the visitor type, and whether it is the weekend or not when they are visiting the site. We will predominantly use the \"Bounce Rate\", \"Exit Rate\", \"Page Value\", “Special Day” categories to answer our question. "
   ]
  },
  {
   "cell_type": "markdown",
   "metadata": {},
   "source": [
    "## Preliminary exploratory data analysis"
   ]
  },
  {
   "cell_type": "markdown",
   "metadata": {},
   "source": [
    "## Methods\n",
    "Our data will first be split into a training set and a testing set. Since we have a large database of 5000 rows, we will be splitting the data 50/50 to each set. If our database was smaller, then this ratio could result in a biased model that is heavily reliant on what rows happened to be selected for training, however half of our database is still 2500 rows which will be sufficient for providing a large enough sample. We will then create a classification model using tidyverse. The model will predict for the “Revenue” outcome, which indicates whether or not a user made a purchase through the factors TRUE/FALSE.  The variables we will be using include: \"Bounce Rate\", \"Exit Rate\", \"Page Value\", “Special Day”, “Month”, and “Weekend”. "
   ]
  },
  {
   "cell_type": "markdown",
   "metadata": {},
   "source": [
    "## Expected outcomes and significance\n",
    "We expect to find that on special days there will be more website traffic than on regular days. With this, we are also expecting that the bounce rate may be higher on special days as people may look around at multiple websites before choosing one to shop from. If this finding is true, then it could impact the marketing and pricing that companies use during the time frame of these special days. As well, it may affect the way that a company prepares for higher usage of their website to ensure they do not face any website crashes that could decrease the volume of people able to browse and buy during these times. If there was to be further investigation on this topic, marketing, pricing, or stability of the website (??) could be looked into to see if there is any effect between purchase intentions of the shoppers and marketing, pricing, and stability of the websites during these times, and if changing these other variables may lead to more or less business during these busier times.  "
   ]
  },
  {
   "cell_type": "code",
   "execution_count": null,
   "metadata": {},
   "outputs": [],
   "source": []
  }
 ],
 "metadata": {
  "kernelspec": {
   "display_name": "R",
   "language": "R",
   "name": "ir"
  },
  "language_info": {
   "codemirror_mode": "r",
   "file_extension": ".r",
   "mimetype": "text/x-r-source",
   "name": "R",
   "pygments_lexer": "r",
   "version": "4.0.0"
  }
 },
 "nbformat": 4,
 "nbformat_minor": 4
}
